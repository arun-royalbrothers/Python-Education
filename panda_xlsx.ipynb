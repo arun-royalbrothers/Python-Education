{
  "nbformat": 4,
  "nbformat_minor": 0,
  "metadata": {
    "colab": {
      "provenance": [],
      "mount_file_id": "1fYumsMcspRVPyYwyQR1xiCgfwpXQHqUS",
      "authorship_tag": "ABX9TyNtxufo2KE48ADh4N0Pe4nP",
      "include_colab_link": true
    },
    "kernelspec": {
      "name": "python3",
      "display_name": "Python 3"
    },
    "language_info": {
      "name": "python"
    }
  },
  "cells": [
    {
      "cell_type": "markdown",
      "metadata": {
        "id": "view-in-github",
        "colab_type": "text"
      },
      "source": [
        "<a href=\"https://colab.research.google.com/github/arun-arunisto/Python-Education/blob/todo/panda_xlsx.ipynb\" target=\"_parent\"><img src=\"https://colab.research.google.com/assets/colab-badge.svg\" alt=\"Open In Colab\"/></a>"
      ]
    },
    {
      "cell_type": "code",
      "execution_count": 3,
      "metadata": {
        "id": "zIdxhewGF5VF"
      },
      "outputs": [],
      "source": [
        "import pandas as pd"
      ]
    },
    {
      "cell_type": "code",
      "source": [
        "file_xl = pd.read_excel(\"/content/drive/MyDrive/Datascience&MachineLearning/datasets/1PCMST.xlsx\")"
      ],
      "metadata": {
        "id": "azbF5RauGYdX"
      },
      "execution_count": 4,
      "outputs": []
    },
    {
      "cell_type": "code",
      "source": [
        "print(file_xl)"
      ],
      "metadata": {
        "colab": {
          "base_uri": "https://localhost:8080/"
        },
        "id": "MAJ1es12G0FY",
        "outputId": "adcfc7b4-6098-40a5-86a7-d9e309b3634a"
      },
      "execution_count": 5,
      "outputs": [
        {
          "output_type": "stream",
          "name": "stdout",
          "text": [
            "   DIST_CODE  PCNO    PCNAME_ENG     PCNAME_TAM\n",
            "0         12    19  Nilgiris(SC)   நீலகிரி (SC)\n",
            "1         12    20    Coimbatore  கோயம்புத்தூர்\n",
            "2         12    21      Pollachi     பொள்ளாச்சி\n"
          ]
        }
      ]
    },
    {
      "cell_type": "code",
      "source": [
        "file_xl.shape"
      ],
      "metadata": {
        "colab": {
          "base_uri": "https://localhost:8080/"
        },
        "id": "zW-iQAcsG9AA",
        "outputId": "3b038b72-cea6-4ae0-d762-0702fdb2193c"
      },
      "execution_count": 6,
      "outputs": [
        {
          "output_type": "execute_result",
          "data": {
            "text/plain": [
              "(3, 4)"
            ]
          },
          "metadata": {},
          "execution_count": 6
        }
      ]
    },
    {
      "cell_type": "code",
      "source": [
        "file_xl.head()"
      ],
      "metadata": {
        "colab": {
          "base_uri": "https://localhost:8080/",
          "height": 143
        },
        "id": "gWK6vHgWHK_g",
        "outputId": "331372bc-a299-49e6-980f-62cbb9922ed2"
      },
      "execution_count": 8,
      "outputs": [
        {
          "output_type": "execute_result",
          "data": {
            "text/plain": [
              "   DIST_CODE  PCNO    PCNAME_ENG     PCNAME_TAM\n",
              "0         12    19  Nilgiris(SC)   நீலகிரி (SC)\n",
              "1         12    20    Coimbatore  கோயம்புத்தூர்\n",
              "2         12    21      Pollachi     பொள்ளாச்சி"
            ],
            "text/html": [
              "\n",
              "  <div id=\"df-4ae91b28-7ee3-46de-ac1c-095eb7b4f46d\" class=\"colab-df-container\">\n",
              "    <div>\n",
              "<style scoped>\n",
              "    .dataframe tbody tr th:only-of-type {\n",
              "        vertical-align: middle;\n",
              "    }\n",
              "\n",
              "    .dataframe tbody tr th {\n",
              "        vertical-align: top;\n",
              "    }\n",
              "\n",
              "    .dataframe thead th {\n",
              "        text-align: right;\n",
              "    }\n",
              "</style>\n",
              "<table border=\"1\" class=\"dataframe\">\n",
              "  <thead>\n",
              "    <tr style=\"text-align: right;\">\n",
              "      <th></th>\n",
              "      <th>DIST_CODE</th>\n",
              "      <th>PCNO</th>\n",
              "      <th>PCNAME_ENG</th>\n",
              "      <th>PCNAME_TAM</th>\n",
              "    </tr>\n",
              "  </thead>\n",
              "  <tbody>\n",
              "    <tr>\n",
              "      <th>0</th>\n",
              "      <td>12</td>\n",
              "      <td>19</td>\n",
              "      <td>Nilgiris(SC)</td>\n",
              "      <td>நீலகிரி (SC)</td>\n",
              "    </tr>\n",
              "    <tr>\n",
              "      <th>1</th>\n",
              "      <td>12</td>\n",
              "      <td>20</td>\n",
              "      <td>Coimbatore</td>\n",
              "      <td>கோயம்புத்தூர்</td>\n",
              "    </tr>\n",
              "    <tr>\n",
              "      <th>2</th>\n",
              "      <td>12</td>\n",
              "      <td>21</td>\n",
              "      <td>Pollachi</td>\n",
              "      <td>பொள்ளாச்சி</td>\n",
              "    </tr>\n",
              "  </tbody>\n",
              "</table>\n",
              "</div>\n",
              "    <div class=\"colab-df-buttons\">\n",
              "\n",
              "  <div class=\"colab-df-container\">\n",
              "    <button class=\"colab-df-convert\" onclick=\"convertToInteractive('df-4ae91b28-7ee3-46de-ac1c-095eb7b4f46d')\"\n",
              "            title=\"Convert this dataframe to an interactive table.\"\n",
              "            style=\"display:none;\">\n",
              "\n",
              "  <svg xmlns=\"http://www.w3.org/2000/svg\" height=\"24px\" viewBox=\"0 -960 960 960\">\n",
              "    <path d=\"M120-120v-720h720v720H120Zm60-500h600v-160H180v160Zm220 220h160v-160H400v160Zm0 220h160v-160H400v160ZM180-400h160v-160H180v160Zm440 0h160v-160H620v160ZM180-180h160v-160H180v160Zm440 0h160v-160H620v160Z\"/>\n",
              "  </svg>\n",
              "    </button>\n",
              "\n",
              "  <style>\n",
              "    .colab-df-container {\n",
              "      display:flex;\n",
              "      gap: 12px;\n",
              "    }\n",
              "\n",
              "    .colab-df-convert {\n",
              "      background-color: #E8F0FE;\n",
              "      border: none;\n",
              "      border-radius: 50%;\n",
              "      cursor: pointer;\n",
              "      display: none;\n",
              "      fill: #1967D2;\n",
              "      height: 32px;\n",
              "      padding: 0 0 0 0;\n",
              "      width: 32px;\n",
              "    }\n",
              "\n",
              "    .colab-df-convert:hover {\n",
              "      background-color: #E2EBFA;\n",
              "      box-shadow: 0px 1px 2px rgba(60, 64, 67, 0.3), 0px 1px 3px 1px rgba(60, 64, 67, 0.15);\n",
              "      fill: #174EA6;\n",
              "    }\n",
              "\n",
              "    .colab-df-buttons div {\n",
              "      margin-bottom: 4px;\n",
              "    }\n",
              "\n",
              "    [theme=dark] .colab-df-convert {\n",
              "      background-color: #3B4455;\n",
              "      fill: #D2E3FC;\n",
              "    }\n",
              "\n",
              "    [theme=dark] .colab-df-convert:hover {\n",
              "      background-color: #434B5C;\n",
              "      box-shadow: 0px 1px 3px 1px rgba(0, 0, 0, 0.15);\n",
              "      filter: drop-shadow(0px 1px 2px rgba(0, 0, 0, 0.3));\n",
              "      fill: #FFFFFF;\n",
              "    }\n",
              "  </style>\n",
              "\n",
              "    <script>\n",
              "      const buttonEl =\n",
              "        document.querySelector('#df-4ae91b28-7ee3-46de-ac1c-095eb7b4f46d button.colab-df-convert');\n",
              "      buttonEl.style.display =\n",
              "        google.colab.kernel.accessAllowed ? 'block' : 'none';\n",
              "\n",
              "      async function convertToInteractive(key) {\n",
              "        const element = document.querySelector('#df-4ae91b28-7ee3-46de-ac1c-095eb7b4f46d');\n",
              "        const dataTable =\n",
              "          await google.colab.kernel.invokeFunction('convertToInteractive',\n",
              "                                                    [key], {});\n",
              "        if (!dataTable) return;\n",
              "\n",
              "        const docLinkHtml = 'Like what you see? Visit the ' +\n",
              "          '<a target=\"_blank\" href=https://colab.research.google.com/notebooks/data_table.ipynb>data table notebook</a>'\n",
              "          + ' to learn more about interactive tables.';\n",
              "        element.innerHTML = '';\n",
              "        dataTable['output_type'] = 'display_data';\n",
              "        await google.colab.output.renderOutput(dataTable, element);\n",
              "        const docLink = document.createElement('div');\n",
              "        docLink.innerHTML = docLinkHtml;\n",
              "        element.appendChild(docLink);\n",
              "      }\n",
              "    </script>\n",
              "  </div>\n",
              "\n",
              "\n",
              "<div id=\"df-b185ff23-d635-4b9c-919f-e25e023167f4\">\n",
              "  <button class=\"colab-df-quickchart\" onclick=\"quickchart('df-b185ff23-d635-4b9c-919f-e25e023167f4')\"\n",
              "            title=\"Suggest charts\"\n",
              "            style=\"display:none;\">\n",
              "\n",
              "<svg xmlns=\"http://www.w3.org/2000/svg\" height=\"24px\"viewBox=\"0 0 24 24\"\n",
              "     width=\"24px\">\n",
              "    <g>\n",
              "        <path d=\"M19 3H5c-1.1 0-2 .9-2 2v14c0 1.1.9 2 2 2h14c1.1 0 2-.9 2-2V5c0-1.1-.9-2-2-2zM9 17H7v-7h2v7zm4 0h-2V7h2v10zm4 0h-2v-4h2v4z\"/>\n",
              "    </g>\n",
              "</svg>\n",
              "  </button>\n",
              "\n",
              "<style>\n",
              "  .colab-df-quickchart {\n",
              "      --bg-color: #E8F0FE;\n",
              "      --fill-color: #1967D2;\n",
              "      --hover-bg-color: #E2EBFA;\n",
              "      --hover-fill-color: #174EA6;\n",
              "      --disabled-fill-color: #AAA;\n",
              "      --disabled-bg-color: #DDD;\n",
              "  }\n",
              "\n",
              "  [theme=dark] .colab-df-quickchart {\n",
              "      --bg-color: #3B4455;\n",
              "      --fill-color: #D2E3FC;\n",
              "      --hover-bg-color: #434B5C;\n",
              "      --hover-fill-color: #FFFFFF;\n",
              "      --disabled-bg-color: #3B4455;\n",
              "      --disabled-fill-color: #666;\n",
              "  }\n",
              "\n",
              "  .colab-df-quickchart {\n",
              "    background-color: var(--bg-color);\n",
              "    border: none;\n",
              "    border-radius: 50%;\n",
              "    cursor: pointer;\n",
              "    display: none;\n",
              "    fill: var(--fill-color);\n",
              "    height: 32px;\n",
              "    padding: 0;\n",
              "    width: 32px;\n",
              "  }\n",
              "\n",
              "  .colab-df-quickchart:hover {\n",
              "    background-color: var(--hover-bg-color);\n",
              "    box-shadow: 0 1px 2px rgba(60, 64, 67, 0.3), 0 1px 3px 1px rgba(60, 64, 67, 0.15);\n",
              "    fill: var(--button-hover-fill-color);\n",
              "  }\n",
              "\n",
              "  .colab-df-quickchart-complete:disabled,\n",
              "  .colab-df-quickchart-complete:disabled:hover {\n",
              "    background-color: var(--disabled-bg-color);\n",
              "    fill: var(--disabled-fill-color);\n",
              "    box-shadow: none;\n",
              "  }\n",
              "\n",
              "  .colab-df-spinner {\n",
              "    border: 2px solid var(--fill-color);\n",
              "    border-color: transparent;\n",
              "    border-bottom-color: var(--fill-color);\n",
              "    animation:\n",
              "      spin 1s steps(1) infinite;\n",
              "  }\n",
              "\n",
              "  @keyframes spin {\n",
              "    0% {\n",
              "      border-color: transparent;\n",
              "      border-bottom-color: var(--fill-color);\n",
              "      border-left-color: var(--fill-color);\n",
              "    }\n",
              "    20% {\n",
              "      border-color: transparent;\n",
              "      border-left-color: var(--fill-color);\n",
              "      border-top-color: var(--fill-color);\n",
              "    }\n",
              "    30% {\n",
              "      border-color: transparent;\n",
              "      border-left-color: var(--fill-color);\n",
              "      border-top-color: var(--fill-color);\n",
              "      border-right-color: var(--fill-color);\n",
              "    }\n",
              "    40% {\n",
              "      border-color: transparent;\n",
              "      border-right-color: var(--fill-color);\n",
              "      border-top-color: var(--fill-color);\n",
              "    }\n",
              "    60% {\n",
              "      border-color: transparent;\n",
              "      border-right-color: var(--fill-color);\n",
              "    }\n",
              "    80% {\n",
              "      border-color: transparent;\n",
              "      border-right-color: var(--fill-color);\n",
              "      border-bottom-color: var(--fill-color);\n",
              "    }\n",
              "    90% {\n",
              "      border-color: transparent;\n",
              "      border-bottom-color: var(--fill-color);\n",
              "    }\n",
              "  }\n",
              "</style>\n",
              "\n",
              "  <script>\n",
              "    async function quickchart(key) {\n",
              "      const quickchartButtonEl =\n",
              "        document.querySelector('#' + key + ' button');\n",
              "      quickchartButtonEl.disabled = true;  // To prevent multiple clicks.\n",
              "      quickchartButtonEl.classList.add('colab-df-spinner');\n",
              "      try {\n",
              "        const charts = await google.colab.kernel.invokeFunction(\n",
              "            'suggestCharts', [key], {});\n",
              "      } catch (error) {\n",
              "        console.error('Error during call to suggestCharts:', error);\n",
              "      }\n",
              "      quickchartButtonEl.classList.remove('colab-df-spinner');\n",
              "      quickchartButtonEl.classList.add('colab-df-quickchart-complete');\n",
              "    }\n",
              "    (() => {\n",
              "      let quickchartButtonEl =\n",
              "        document.querySelector('#df-b185ff23-d635-4b9c-919f-e25e023167f4 button');\n",
              "      quickchartButtonEl.style.display =\n",
              "        google.colab.kernel.accessAllowed ? 'block' : 'none';\n",
              "    })();\n",
              "  </script>\n",
              "</div>\n",
              "\n",
              "    </div>\n",
              "  </div>\n"
            ],
            "application/vnd.google.colaboratory.intrinsic+json": {
              "type": "dataframe",
              "variable_name": "file_xl",
              "summary": "{\n  \"name\": \"file_xl\",\n  \"rows\": 3,\n  \"fields\": [\n    {\n      \"column\": \"DIST_CODE\",\n      \"properties\": {\n        \"dtype\": \"number\",\n        \"std\": 0,\n        \"min\": 12,\n        \"max\": 12,\n        \"num_unique_values\": 1,\n        \"samples\": [\n          12\n        ],\n        \"semantic_type\": \"\",\n        \"description\": \"\"\n      }\n    },\n    {\n      \"column\": \"PCNO\",\n      \"properties\": {\n        \"dtype\": \"number\",\n        \"std\": 1,\n        \"min\": 19,\n        \"max\": 21,\n        \"num_unique_values\": 3,\n        \"samples\": [\n          19\n        ],\n        \"semantic_type\": \"\",\n        \"description\": \"\"\n      }\n    },\n    {\n      \"column\": \"PCNAME_ENG\",\n      \"properties\": {\n        \"dtype\": \"string\",\n        \"num_unique_values\": 3,\n        \"samples\": [\n          \"Nilgiris(SC)\"\n        ],\n        \"semantic_type\": \"\",\n        \"description\": \"\"\n      }\n    },\n    {\n      \"column\": \"PCNAME_TAM\",\n      \"properties\": {\n        \"dtype\": \"string\",\n        \"num_unique_values\": 3,\n        \"samples\": [\n          \"\\u0ba8\\u0bc0\\u0bb2\\u0b95\\u0bbf\\u0bb0\\u0bbf (SC)\"\n        ],\n        \"semantic_type\": \"\",\n        \"description\": \"\"\n      }\n    }\n  ]\n}"
            }
          },
          "metadata": {},
          "execution_count": 8
        }
      ]
    },
    {
      "cell_type": "code",
      "source": [
        "print(file_xl.columns)"
      ],
      "metadata": {
        "colab": {
          "base_uri": "https://localhost:8080/"
        },
        "id": "fq7F9jwWHb5x",
        "outputId": "5db0abb5-f7d7-4809-f350-b0ee3852a944"
      },
      "execution_count": 9,
      "outputs": [
        {
          "output_type": "stream",
          "name": "stdout",
          "text": [
            "Index(['DIST_CODE', 'PCNO', 'PCNAME_ENG', 'PCNAME_TAM'], dtype='object')\n"
          ]
        }
      ]
    },
    {
      "cell_type": "code",
      "source": [
        "print(file_xl[\"DIST_CODE\"])"
      ],
      "metadata": {
        "colab": {
          "base_uri": "https://localhost:8080/"
        },
        "id": "lryXn0SwILKE",
        "outputId": "0ac3a180-c59b-4cb2-fc11-bb25c5049250"
      },
      "execution_count": 10,
      "outputs": [
        {
          "output_type": "stream",
          "name": "stdout",
          "text": [
            "0    12\n",
            "1    12\n",
            "2    12\n",
            "Name: DIST_CODE, dtype: int64\n"
          ]
        }
      ]
    },
    {
      "cell_type": "code",
      "source": [
        "dis_code = list(file_xl[\"DIST_CODE\"])\n",
        "print(dis_code)"
      ],
      "metadata": {
        "colab": {
          "base_uri": "https://localhost:8080/"
        },
        "id": "CNjO53S2ITpp",
        "outputId": "4c9dcbf4-a84c-47bc-9c10-1f4f7d626f10"
      },
      "execution_count": 11,
      "outputs": [
        {
          "output_type": "stream",
          "name": "stdout",
          "text": [
            "[12, 12, 12]\n"
          ]
        }
      ]
    },
    {
      "cell_type": "code",
      "source": [
        "pc_no, pc_name_en, pc_name_tam = list(file_xl[\"PCNO\"]), list(file_xl[\"PCNAME_ENG\"]), list(file_xl[\"PCNAME_TAM\"])"
      ],
      "metadata": {
        "id": "FrZdFpFCIjMp"
      },
      "execution_count": 12,
      "outputs": []
    },
    {
      "cell_type": "code",
      "source": [
        "#data row wise\n",
        "data_1 = file_xl.iloc[0]\n",
        "data_1"
      ],
      "metadata": {
        "colab": {
          "base_uri": "https://localhost:8080/"
        },
        "id": "nO69dy05I9zL",
        "outputId": "d2abe7bb-397f-485e-eeb9-29110610a8cd"
      },
      "execution_count": 13,
      "outputs": [
        {
          "output_type": "execute_result",
          "data": {
            "text/plain": [
              "DIST_CODE               12\n",
              "PCNO                    19\n",
              "PCNAME_ENG    Nilgiris(SC)\n",
              "PCNAME_TAM    நீலகிரி (SC)\n",
              "Name: 0, dtype: object"
            ]
          },
          "metadata": {},
          "execution_count": 13
        }
      ]
    },
    {
      "cell_type": "code",
      "source": [
        "#length of rows\n",
        "num_rows = file_xl.shape[0]\n",
        "for i in range(num_rows):\n",
        "  print(list(file_xl.iloc[i]))"
      ],
      "metadata": {
        "colab": {
          "base_uri": "https://localhost:8080/"
        },
        "id": "Ok3N58SBJkXw",
        "outputId": "77111e1f-6aa0-4134-dc8f-c44394bc17a9"
      },
      "execution_count": 14,
      "outputs": [
        {
          "output_type": "stream",
          "name": "stdout",
          "text": [
            "[12, 19, 'Nilgiris(SC)', 'நீலகிரி (SC)']\n",
            "[12, 20, 'Coimbatore', 'கோயம்புத்தூர்']\n",
            "[12, 21, 'Pollachi', 'பொள்ளாச்சி']\n"
          ]
        }
      ]
    },
    {
      "cell_type": "code",
      "source": [
        "new_li = []\n",
        "for i in range(num_rows):\n",
        "  new_li.append(tuple(file_xl.iloc[i]))\n",
        "print(new_li)"
      ],
      "metadata": {
        "colab": {
          "base_uri": "https://localhost:8080/"
        },
        "id": "xG3cb6KZKEKQ",
        "outputId": "ba8bdf48-a874-416e-d002-0557c6a61cff"
      },
      "execution_count": 15,
      "outputs": [
        {
          "output_type": "stream",
          "name": "stdout",
          "text": [
            "[(12, 19, 'Nilgiris(SC)', 'நீலகிரி (SC)'), (12, 20, 'Coimbatore', 'கோயம்புத்தூர்'), (12, 21, 'Pollachi', 'பொள்ளாச்சி')]\n"
          ]
        }
      ]
    },
    {
      "cell_type": "code",
      "source": [
        "for i in new_li:\n",
        "  print(i)"
      ],
      "metadata": {
        "colab": {
          "base_uri": "https://localhost:8080/"
        },
        "id": "DGGL5geeKaHa",
        "outputId": "74155a06-cbaf-4672-df87-e48f3ad8d2d9"
      },
      "execution_count": 16,
      "outputs": [
        {
          "output_type": "stream",
          "name": "stdout",
          "text": [
            "(12, 19, 'Nilgiris(SC)', 'நீலகிரி (SC)')\n",
            "(12, 20, 'Coimbatore', 'கோயம்புத்தூர்')\n",
            "(12, 21, 'Pollachi', 'பொள்ளாச்சி')\n"
          ]
        }
      ]
    },
    {
      "cell_type": "code",
      "source": [
        "file_xl.iloc[0][0]"
      ],
      "metadata": {
        "colab": {
          "base_uri": "https://localhost:8080/"
        },
        "id": "WnPUygbxNd_j",
        "outputId": "5d20ba58-187b-4b2a-fc93-ecad0f0a93c5"
      },
      "execution_count": 17,
      "outputs": [
        {
          "output_type": "execute_result",
          "data": {
            "text/plain": [
              "12"
            ]
          },
          "metadata": {},
          "execution_count": 17
        }
      ]
    },
    {
      "cell_type": "code",
      "source": [
        "#opening ps master\n",
        "xl_file = pd.read_excel(\"/content/drive/MyDrive/Datascience&MachineLearning/datasets/PSMaster.xlsx\")\n",
        "xl_file.head()"
      ],
      "metadata": {
        "colab": {
          "base_uri": "https://localhost:8080/",
          "height": 591
        },
        "id": "OUd1WnVZTBTM",
        "outputId": "6b9f0005-f56d-45a0-f797-8f9784ad5790"
      },
      "execution_count": 19,
      "outputs": [
        {
          "output_type": "execute_result",
          "data": {
            "text/plain": [
              "   dist_code  pc_no  ac_no ps_sno  \\\n",
              "0         12     20    111      1   \n",
              "1         12     20    111      2   \n",
              "2         12     20    111      3   \n",
              "3         12     20    111      4   \n",
              "4         12     20    111      5   \n",
              "\n",
              "                                          ps_name_en  \\\n",
              "0  Panchayat Union Elementary School,North Facing...   \n",
              "1  Sri Sarguru adivasi Gurugula School, East Faci...   \n",
              "2  Sri Sarguru adivasi Gurugula School, East Faci...   \n",
              "3  Panchayat Union Elementary School, North Facin...   \n",
              "4  Panchayat Union Elementary School, East facing...   \n",
              "\n",
              "                                          ps_area_en  \\\n",
              "0  1.Nellithurai Ward No. 1\\n2.Nandhavanam  Pudur...   \n",
              "1  1.Narayanasamy Pudur W.No. 5\\n2.Naripallamroad...   \n",
              "2  1.Kallar Pudur W.No. 2\\n2.Sachidhanantha Jothi...   \n",
              "3  1.Kallar T.A.S  Nagar W.No.5\\n2.Kallar Agasthi...   \n",
              "4  1.Oomapalayam Keeltheru W.No 8\\n2.Oomapalayam ...   \n",
              "\n",
              "                                          ps_name_ta  \\\n",
              "0  ஊராட்சி ஒன்றிய துவக்கப்பள்ளி, வடக்கு பார்த்த க...   \n",
              "1  ஸ்ரீ சற்குரு ஆதிவாசிகள் குருகுலப்பள்ளி ,கிழக்க...   \n",
              "2  ஸ்ரீ சற்குரு ஆதிவாசிகள் குருகுலப்பள்ளி ,கிழக்க...   \n",
              "3  ஊராட்சி ஒன்றிய தொடக்கப்பள்ளி ,வடக்கு பார்த்த த...   \n",
              "4  ஊராட்சி ஒன்றிய தொடக்கப்பள்ளி ,கிழக்குப் பார்த்...   \n",
              "\n",
              "                                          ps_area_ta  ps_total_voters  \n",
              "0  1.நெல்லித்துறை வார்டு எண். 1\\n2.நந்தவனம் புதூர...           1082.0  \n",
              "1  1.நாராயணசாமி புதூர் வார்டு எண்.5\\n2.நரிபள்ளம்ர...           1124.0  \n",
              "2  1.கல்லார் புதூர் வார்டு எண். 2\\n2.சச்சிதானந்த ...            762.0  \n",
              "3  1.கல்லார் டி.ஏ.எஸ் நகர் வார்டு எண். 5\\n2.கல்லா...            857.0  \n",
              "4  1.ஊமப்பாளையம் கீழ்த்தெரு வார்டு எண். 8\\n2.ஊமப்...           1003.0  "
            ],
            "text/html": [
              "\n",
              "  <div id=\"df-0588a54e-288c-4aeb-b78f-16e0936a734f\" class=\"colab-df-container\">\n",
              "    <div>\n",
              "<style scoped>\n",
              "    .dataframe tbody tr th:only-of-type {\n",
              "        vertical-align: middle;\n",
              "    }\n",
              "\n",
              "    .dataframe tbody tr th {\n",
              "        vertical-align: top;\n",
              "    }\n",
              "\n",
              "    .dataframe thead th {\n",
              "        text-align: right;\n",
              "    }\n",
              "</style>\n",
              "<table border=\"1\" class=\"dataframe\">\n",
              "  <thead>\n",
              "    <tr style=\"text-align: right;\">\n",
              "      <th></th>\n",
              "      <th>dist_code</th>\n",
              "      <th>pc_no</th>\n",
              "      <th>ac_no</th>\n",
              "      <th>ps_sno</th>\n",
              "      <th>ps_name_en</th>\n",
              "      <th>ps_area_en</th>\n",
              "      <th>ps_name_ta</th>\n",
              "      <th>ps_area_ta</th>\n",
              "      <th>ps_total_voters</th>\n",
              "    </tr>\n",
              "  </thead>\n",
              "  <tbody>\n",
              "    <tr>\n",
              "      <th>0</th>\n",
              "      <td>12</td>\n",
              "      <td>20</td>\n",
              "      <td>111</td>\n",
              "      <td>1</td>\n",
              "      <td>Panchayat Union Elementary School,North Facing...</td>\n",
              "      <td>1.Nellithurai Ward No. 1\\n2.Nandhavanam  Pudur...</td>\n",
              "      <td>ஊராட்சி ஒன்றிய துவக்கப்பள்ளி, வடக்கு பார்த்த க...</td>\n",
              "      <td>1.நெல்லித்துறை வார்டு எண். 1\\n2.நந்தவனம் புதூர...</td>\n",
              "      <td>1082.0</td>\n",
              "    </tr>\n",
              "    <tr>\n",
              "      <th>1</th>\n",
              "      <td>12</td>\n",
              "      <td>20</td>\n",
              "      <td>111</td>\n",
              "      <td>2</td>\n",
              "      <td>Sri Sarguru adivasi Gurugula School, East Faci...</td>\n",
              "      <td>1.Narayanasamy Pudur W.No. 5\\n2.Naripallamroad...</td>\n",
              "      <td>ஸ்ரீ சற்குரு ஆதிவாசிகள் குருகுலப்பள்ளி ,கிழக்க...</td>\n",
              "      <td>1.நாராயணசாமி புதூர் வார்டு எண்.5\\n2.நரிபள்ளம்ர...</td>\n",
              "      <td>1124.0</td>\n",
              "    </tr>\n",
              "    <tr>\n",
              "      <th>2</th>\n",
              "      <td>12</td>\n",
              "      <td>20</td>\n",
              "      <td>111</td>\n",
              "      <td>3</td>\n",
              "      <td>Sri Sarguru adivasi Gurugula School, East Faci...</td>\n",
              "      <td>1.Kallar Pudur W.No. 2\\n2.Sachidhanantha Jothi...</td>\n",
              "      <td>ஸ்ரீ சற்குரு ஆதிவாசிகள் குருகுலப்பள்ளி ,கிழக்க...</td>\n",
              "      <td>1.கல்லார் புதூர் வார்டு எண். 2\\n2.சச்சிதானந்த ...</td>\n",
              "      <td>762.0</td>\n",
              "    </tr>\n",
              "    <tr>\n",
              "      <th>3</th>\n",
              "      <td>12</td>\n",
              "      <td>20</td>\n",
              "      <td>111</td>\n",
              "      <td>4</td>\n",
              "      <td>Panchayat Union Elementary School, North Facin...</td>\n",
              "      <td>1.Kallar T.A.S  Nagar W.No.5\\n2.Kallar Agasthi...</td>\n",
              "      <td>ஊராட்சி ஒன்றிய தொடக்கப்பள்ளி ,வடக்கு பார்த்த த...</td>\n",
              "      <td>1.கல்லார் டி.ஏ.எஸ் நகர் வார்டு எண். 5\\n2.கல்லா...</td>\n",
              "      <td>857.0</td>\n",
              "    </tr>\n",
              "    <tr>\n",
              "      <th>4</th>\n",
              "      <td>12</td>\n",
              "      <td>20</td>\n",
              "      <td>111</td>\n",
              "      <td>5</td>\n",
              "      <td>Panchayat Union Elementary School, East facing...</td>\n",
              "      <td>1.Oomapalayam Keeltheru W.No 8\\n2.Oomapalayam ...</td>\n",
              "      <td>ஊராட்சி ஒன்றிய தொடக்கப்பள்ளி ,கிழக்குப் பார்த்...</td>\n",
              "      <td>1.ஊமப்பாளையம் கீழ்த்தெரு வார்டு எண். 8\\n2.ஊமப்...</td>\n",
              "      <td>1003.0</td>\n",
              "    </tr>\n",
              "  </tbody>\n",
              "</table>\n",
              "</div>\n",
              "    <div class=\"colab-df-buttons\">\n",
              "\n",
              "  <div class=\"colab-df-container\">\n",
              "    <button class=\"colab-df-convert\" onclick=\"convertToInteractive('df-0588a54e-288c-4aeb-b78f-16e0936a734f')\"\n",
              "            title=\"Convert this dataframe to an interactive table.\"\n",
              "            style=\"display:none;\">\n",
              "\n",
              "  <svg xmlns=\"http://www.w3.org/2000/svg\" height=\"24px\" viewBox=\"0 -960 960 960\">\n",
              "    <path d=\"M120-120v-720h720v720H120Zm60-500h600v-160H180v160Zm220 220h160v-160H400v160Zm0 220h160v-160H400v160ZM180-400h160v-160H180v160Zm440 0h160v-160H620v160ZM180-180h160v-160H180v160Zm440 0h160v-160H620v160Z\"/>\n",
              "  </svg>\n",
              "    </button>\n",
              "\n",
              "  <style>\n",
              "    .colab-df-container {\n",
              "      display:flex;\n",
              "      gap: 12px;\n",
              "    }\n",
              "\n",
              "    .colab-df-convert {\n",
              "      background-color: #E8F0FE;\n",
              "      border: none;\n",
              "      border-radius: 50%;\n",
              "      cursor: pointer;\n",
              "      display: none;\n",
              "      fill: #1967D2;\n",
              "      height: 32px;\n",
              "      padding: 0 0 0 0;\n",
              "      width: 32px;\n",
              "    }\n",
              "\n",
              "    .colab-df-convert:hover {\n",
              "      background-color: #E2EBFA;\n",
              "      box-shadow: 0px 1px 2px rgba(60, 64, 67, 0.3), 0px 1px 3px 1px rgba(60, 64, 67, 0.15);\n",
              "      fill: #174EA6;\n",
              "    }\n",
              "\n",
              "    .colab-df-buttons div {\n",
              "      margin-bottom: 4px;\n",
              "    }\n",
              "\n",
              "    [theme=dark] .colab-df-convert {\n",
              "      background-color: #3B4455;\n",
              "      fill: #D2E3FC;\n",
              "    }\n",
              "\n",
              "    [theme=dark] .colab-df-convert:hover {\n",
              "      background-color: #434B5C;\n",
              "      box-shadow: 0px 1px 3px 1px rgba(0, 0, 0, 0.15);\n",
              "      filter: drop-shadow(0px 1px 2px rgba(0, 0, 0, 0.3));\n",
              "      fill: #FFFFFF;\n",
              "    }\n",
              "  </style>\n",
              "\n",
              "    <script>\n",
              "      const buttonEl =\n",
              "        document.querySelector('#df-0588a54e-288c-4aeb-b78f-16e0936a734f button.colab-df-convert');\n",
              "      buttonEl.style.display =\n",
              "        google.colab.kernel.accessAllowed ? 'block' : 'none';\n",
              "\n",
              "      async function convertToInteractive(key) {\n",
              "        const element = document.querySelector('#df-0588a54e-288c-4aeb-b78f-16e0936a734f');\n",
              "        const dataTable =\n",
              "          await google.colab.kernel.invokeFunction('convertToInteractive',\n",
              "                                                    [key], {});\n",
              "        if (!dataTable) return;\n",
              "\n",
              "        const docLinkHtml = 'Like what you see? Visit the ' +\n",
              "          '<a target=\"_blank\" href=https://colab.research.google.com/notebooks/data_table.ipynb>data table notebook</a>'\n",
              "          + ' to learn more about interactive tables.';\n",
              "        element.innerHTML = '';\n",
              "        dataTable['output_type'] = 'display_data';\n",
              "        await google.colab.output.renderOutput(dataTable, element);\n",
              "        const docLink = document.createElement('div');\n",
              "        docLink.innerHTML = docLinkHtml;\n",
              "        element.appendChild(docLink);\n",
              "      }\n",
              "    </script>\n",
              "  </div>\n",
              "\n",
              "\n",
              "<div id=\"df-b8403b7e-f075-41cf-bf01-8ed227c87c8b\">\n",
              "  <button class=\"colab-df-quickchart\" onclick=\"quickchart('df-b8403b7e-f075-41cf-bf01-8ed227c87c8b')\"\n",
              "            title=\"Suggest charts\"\n",
              "            style=\"display:none;\">\n",
              "\n",
              "<svg xmlns=\"http://www.w3.org/2000/svg\" height=\"24px\"viewBox=\"0 0 24 24\"\n",
              "     width=\"24px\">\n",
              "    <g>\n",
              "        <path d=\"M19 3H5c-1.1 0-2 .9-2 2v14c0 1.1.9 2 2 2h14c1.1 0 2-.9 2-2V5c0-1.1-.9-2-2-2zM9 17H7v-7h2v7zm4 0h-2V7h2v10zm4 0h-2v-4h2v4z\"/>\n",
              "    </g>\n",
              "</svg>\n",
              "  </button>\n",
              "\n",
              "<style>\n",
              "  .colab-df-quickchart {\n",
              "      --bg-color: #E8F0FE;\n",
              "      --fill-color: #1967D2;\n",
              "      --hover-bg-color: #E2EBFA;\n",
              "      --hover-fill-color: #174EA6;\n",
              "      --disabled-fill-color: #AAA;\n",
              "      --disabled-bg-color: #DDD;\n",
              "  }\n",
              "\n",
              "  [theme=dark] .colab-df-quickchart {\n",
              "      --bg-color: #3B4455;\n",
              "      --fill-color: #D2E3FC;\n",
              "      --hover-bg-color: #434B5C;\n",
              "      --hover-fill-color: #FFFFFF;\n",
              "      --disabled-bg-color: #3B4455;\n",
              "      --disabled-fill-color: #666;\n",
              "  }\n",
              "\n",
              "  .colab-df-quickchart {\n",
              "    background-color: var(--bg-color);\n",
              "    border: none;\n",
              "    border-radius: 50%;\n",
              "    cursor: pointer;\n",
              "    display: none;\n",
              "    fill: var(--fill-color);\n",
              "    height: 32px;\n",
              "    padding: 0;\n",
              "    width: 32px;\n",
              "  }\n",
              "\n",
              "  .colab-df-quickchart:hover {\n",
              "    background-color: var(--hover-bg-color);\n",
              "    box-shadow: 0 1px 2px rgba(60, 64, 67, 0.3), 0 1px 3px 1px rgba(60, 64, 67, 0.15);\n",
              "    fill: var(--button-hover-fill-color);\n",
              "  }\n",
              "\n",
              "  .colab-df-quickchart-complete:disabled,\n",
              "  .colab-df-quickchart-complete:disabled:hover {\n",
              "    background-color: var(--disabled-bg-color);\n",
              "    fill: var(--disabled-fill-color);\n",
              "    box-shadow: none;\n",
              "  }\n",
              "\n",
              "  .colab-df-spinner {\n",
              "    border: 2px solid var(--fill-color);\n",
              "    border-color: transparent;\n",
              "    border-bottom-color: var(--fill-color);\n",
              "    animation:\n",
              "      spin 1s steps(1) infinite;\n",
              "  }\n",
              "\n",
              "  @keyframes spin {\n",
              "    0% {\n",
              "      border-color: transparent;\n",
              "      border-bottom-color: var(--fill-color);\n",
              "      border-left-color: var(--fill-color);\n",
              "    }\n",
              "    20% {\n",
              "      border-color: transparent;\n",
              "      border-left-color: var(--fill-color);\n",
              "      border-top-color: var(--fill-color);\n",
              "    }\n",
              "    30% {\n",
              "      border-color: transparent;\n",
              "      border-left-color: var(--fill-color);\n",
              "      border-top-color: var(--fill-color);\n",
              "      border-right-color: var(--fill-color);\n",
              "    }\n",
              "    40% {\n",
              "      border-color: transparent;\n",
              "      border-right-color: var(--fill-color);\n",
              "      border-top-color: var(--fill-color);\n",
              "    }\n",
              "    60% {\n",
              "      border-color: transparent;\n",
              "      border-right-color: var(--fill-color);\n",
              "    }\n",
              "    80% {\n",
              "      border-color: transparent;\n",
              "      border-right-color: var(--fill-color);\n",
              "      border-bottom-color: var(--fill-color);\n",
              "    }\n",
              "    90% {\n",
              "      border-color: transparent;\n",
              "      border-bottom-color: var(--fill-color);\n",
              "    }\n",
              "  }\n",
              "</style>\n",
              "\n",
              "  <script>\n",
              "    async function quickchart(key) {\n",
              "      const quickchartButtonEl =\n",
              "        document.querySelector('#' + key + ' button');\n",
              "      quickchartButtonEl.disabled = true;  // To prevent multiple clicks.\n",
              "      quickchartButtonEl.classList.add('colab-df-spinner');\n",
              "      try {\n",
              "        const charts = await google.colab.kernel.invokeFunction(\n",
              "            'suggestCharts', [key], {});\n",
              "      } catch (error) {\n",
              "        console.error('Error during call to suggestCharts:', error);\n",
              "      }\n",
              "      quickchartButtonEl.classList.remove('colab-df-spinner');\n",
              "      quickchartButtonEl.classList.add('colab-df-quickchart-complete');\n",
              "    }\n",
              "    (() => {\n",
              "      let quickchartButtonEl =\n",
              "        document.querySelector('#df-b8403b7e-f075-41cf-bf01-8ed227c87c8b button');\n",
              "      quickchartButtonEl.style.display =\n",
              "        google.colab.kernel.accessAllowed ? 'block' : 'none';\n",
              "    })();\n",
              "  </script>\n",
              "</div>\n",
              "\n",
              "    </div>\n",
              "  </div>\n"
            ],
            "application/vnd.google.colaboratory.intrinsic+json": {
              "type": "dataframe",
              "variable_name": "xl_file",
              "summary": "{\n  \"name\": \"xl_file\",\n  \"rows\": 2661,\n  \"fields\": [\n    {\n      \"column\": \"dist_code\",\n      \"properties\": {\n        \"dtype\": \"number\",\n        \"std\": 0,\n        \"min\": 12,\n        \"max\": 12,\n        \"num_unique_values\": 1,\n        \"samples\": [\n          12\n        ],\n        \"semantic_type\": \"\",\n        \"description\": \"\"\n      }\n    },\n    {\n      \"column\": \"pc_no\",\n      \"properties\": {\n        \"dtype\": \"number\",\n        \"std\": 0,\n        \"min\": 20,\n        \"max\": 20,\n        \"num_unique_values\": 1,\n        \"samples\": [\n          20\n        ],\n        \"semantic_type\": \"\",\n        \"description\": \"\"\n      }\n    },\n    {\n      \"column\": \"ac_no\",\n      \"properties\": {\n        \"dtype\": \"number\",\n        \"std\": 3,\n        \"min\": 111,\n        \"max\": 124,\n        \"num_unique_values\": 9,\n        \"samples\": [\n          123\n        ],\n        \"semantic_type\": \"\",\n        \"description\": \"\"\n      }\n    },\n    {\n      \"column\": \"ps_sno\",\n      \"properties\": {\n        \"dtype\": \"category\",\n        \"num_unique_values\": 348,\n        \"samples\": [\n          256\n        ],\n        \"semantic_type\": \"\",\n        \"description\": \"\"\n      }\n    },\n    {\n      \"column\": \"ps_name_en\",\n      \"properties\": {\n        \"dtype\": \"string\",\n        \"num_unique_values\": 2524,\n        \"samples\": [\n          \"Panchayat Union Middle School , New Building  Facing South East Side Terraced Building ,Subbegoundenpudur (Near R.I Office) -642103\"\n        ],\n        \"semantic_type\": \"\",\n        \"description\": \"\"\n      }\n    },\n    {\n      \"column\": \"ps_area_en\",\n      \"properties\": {\n        \"dtype\": \"string\",\n        \"num_unique_values\": 2633,\n        \"samples\": [\n          \"1 COIMBATORE(C) WARD NO 67 MANEESH COLONY_x000D_\\n2 COIMBATORE(C) WARD NO 83 PARK STREET_x000D_\\n3 COIMBATORE(C) WARD NO 83 CHELAPPAN STREET_x000D_\\n4 COIMBATORE(C) WARD NO 83 PARK STREET 2\\n999  OVERSEAS VOTERS\"\n        ],\n        \"semantic_type\": \"\",\n        \"description\": \"\"\n      }\n    },\n    {\n      \"column\": \"ps_name_ta\",\n      \"properties\": {\n        \"dtype\": \"string\",\n        \"num_unique_values\": 2527,\n        \"samples\": [\n          \"\\u0b8e\\u0bb8\\u0bcd \\u0b8e\\u0ba9\\u0bcd \\u0bb5\\u0bbf \\u0b8e\\u0ba9\\u0bcd \\u0bb5\\u0bbf \\u0b85\\u0bb0\\u0b9a\\u0bbf\\u0ba9\\u0bb0\\u0bcd \\u0b86\\u0ba3\\u0bcd\\u0b95\\u0bb3\\u0bcd \\u0b89\\u0baf\\u0bb0\\u0bcd\\u0ba8\\u0bbf\\u0bb2\\u0bc8\\u0baa\\u0bcd\\u0baa\\u0bb3\\u0bcd\\u0bb3\\u0bbf \\u0ba4\\u0bc6\\u0bb1\\u0bcd\\u0b95\\u0bc1 \\u0baa\\u0b95\\u0bcd\\u0b95 \\u0b95\\u0b9f\\u0bcd\\u0b9f\\u0bbf\\u0b9f\\u0bae\\u0bcd \\u0bb5\\u0b9f\\u0b95\\u0bcd\\u0b95\\u0bc1 \\u0baa\\u0bbe\\u0bb0\\u0bcd\\u0ba4\\u0bcd\\u0ba4 8 \\u0bb5\\u0ba4\\u0bc1 \\u0bb5\\u0b95\\u0bc1\\u0baa\\u0bcd\\u0baa\\u0bc1 \\u0b85\\u0bb1\\u0bc8 \\u0b9a\\u0bbf\\u0b99\\u0bcd\\u0b95\\u0bbe\\u0ba8\\u0bb2\\u0bcd\\u0bb2\\u0bc2\\u0bb0\\u0bcd - 641005\"\n        ],\n        \"semantic_type\": \"\",\n        \"description\": \"\"\n      }\n    },\n    {\n      \"column\": \"ps_area_ta\",\n      \"properties\": {\n        \"dtype\": \"string\",\n        \"num_unique_values\": 2636,\n        \"samples\": [\n          \"1.\\u0b87\\u0bb0\\u0ba3\\u0bcd\\u0b9f\\u0bbe\\u0bb5\\u0ba4\\u0bc1 \\u0bae\\u0bc6\\u0baf\\u0bbf\\u0ba9\\u0bcd \\u0bb5\\u0bc0\\u0ba4\\u0bbf \\u0bb5\\u0bbe\\u0bb0\\u0bcd\\u0b9f\\u0bc1 \\u0b8e\\u0ba3\\u0bcd 2\\n999.\\u0b85\\u0baf\\u0bb2\\u0bcd\\u0ba8\\u0bbe\\u0b9f\\u0bc1 \\u0bb5\\u0bbe\\u0bb4\\u0bcd \\u0bb5\\u0bbe\\u0b95\\u0bcd\\u0b95\\u0bbe\\u0bb3\\u0bb0\\u0bcd\\u0b95\\u0bb3\\u0bcd\"\n        ],\n        \"semantic_type\": \"\",\n        \"description\": \"\"\n      }\n    },\n    {\n      \"column\": \"ps_total_voters\",\n      \"properties\": {\n        \"dtype\": \"number\",\n        \"std\": 255.18335194517275,\n        \"min\": 230.0,\n        \"max\": 1508.0,\n        \"num_unique_values\": 944,\n        \"samples\": [\n          876.0\n        ],\n        \"semantic_type\": \"\",\n        \"description\": \"\"\n      }\n    }\n  ]\n}"
            }
          },
          "metadata": {},
          "execution_count": 19
        }
      ]
    },
    {
      "cell_type": "code",
      "source": [
        "num_of_rows = xl_file.shape[0]\n",
        "num_of_rows"
      ],
      "metadata": {
        "colab": {
          "base_uri": "https://localhost:8080/"
        },
        "id": "yAGHyY7VTauM",
        "outputId": "599ab98d-f1cd-44eb-c5df-4ca07d776750"
      },
      "execution_count": 20,
      "outputs": [
        {
          "output_type": "execute_result",
          "data": {
            "text/plain": [
              "2661"
            ]
          },
          "metadata": {},
          "execution_count": 20
        }
      ]
    },
    {
      "cell_type": "code",
      "source": [
        "xl_file.columns"
      ],
      "metadata": {
        "colab": {
          "base_uri": "https://localhost:8080/"
        },
        "id": "BnyY4p8GXyve",
        "outputId": "870f246a-69c6-44b7-9788-27ca402cefed"
      },
      "execution_count": 23,
      "outputs": [
        {
          "output_type": "execute_result",
          "data": {
            "text/plain": [
              "Index(['dist_code', 'pc_no', 'ac_no', 'ps_sno', 'ps_name_en', 'ps_area_en',\n",
              "       'ps_name_ta', 'ps_area_ta', 'ps_total_voters'],\n",
              "      dtype='object')"
            ]
          },
          "metadata": {},
          "execution_count": 23
        }
      ]
    },
    {
      "cell_type": "code",
      "source": [
        "ac_master = pd.read_excel(\"/content/drive/MyDrive/Datascience&MachineLearning/datasets/2acmst.xlsx\")\n",
        "ac_master.head()"
      ],
      "metadata": {
        "colab": {
          "base_uri": "https://localhost:8080/",
          "height": 206
        },
        "id": "WzAZQjkVUFW9",
        "outputId": "49c7f00b-9d3a-47a7-db2b-3d742abb00d8"
      },
      "execution_count": 21,
      "outputs": [
        {
          "output_type": "execute_result",
          "data": {
            "text/plain": [
              "   dist_code  pcno  acno       acname_eng       acname_tam\n",
              "0         12    19   111    Mettuppalayam  மேட்டுப்பாளையம்\n",
              "1         12    19   112         Avinashi          அவிநாசி\n",
              "2         12    20   115         Palladam          பல்லடம்\n",
              "3         12    20   116            Sulur           சூலூர்\n",
              "4         12    20   117  Kavundampalayam  கவுண்டம்பாளையம்"
            ],
            "text/html": [
              "\n",
              "  <div id=\"df-efb3b072-85d7-4d62-8608-adc69225e77a\" class=\"colab-df-container\">\n",
              "    <div>\n",
              "<style scoped>\n",
              "    .dataframe tbody tr th:only-of-type {\n",
              "        vertical-align: middle;\n",
              "    }\n",
              "\n",
              "    .dataframe tbody tr th {\n",
              "        vertical-align: top;\n",
              "    }\n",
              "\n",
              "    .dataframe thead th {\n",
              "        text-align: right;\n",
              "    }\n",
              "</style>\n",
              "<table border=\"1\" class=\"dataframe\">\n",
              "  <thead>\n",
              "    <tr style=\"text-align: right;\">\n",
              "      <th></th>\n",
              "      <th>dist_code</th>\n",
              "      <th>pcno</th>\n",
              "      <th>acno</th>\n",
              "      <th>acname_eng</th>\n",
              "      <th>acname_tam</th>\n",
              "    </tr>\n",
              "  </thead>\n",
              "  <tbody>\n",
              "    <tr>\n",
              "      <th>0</th>\n",
              "      <td>12</td>\n",
              "      <td>19</td>\n",
              "      <td>111</td>\n",
              "      <td>Mettuppalayam</td>\n",
              "      <td>மேட்டுப்பாளையம்</td>\n",
              "    </tr>\n",
              "    <tr>\n",
              "      <th>1</th>\n",
              "      <td>12</td>\n",
              "      <td>19</td>\n",
              "      <td>112</td>\n",
              "      <td>Avinashi</td>\n",
              "      <td>அவிநாசி</td>\n",
              "    </tr>\n",
              "    <tr>\n",
              "      <th>2</th>\n",
              "      <td>12</td>\n",
              "      <td>20</td>\n",
              "      <td>115</td>\n",
              "      <td>Palladam</td>\n",
              "      <td>பல்லடம்</td>\n",
              "    </tr>\n",
              "    <tr>\n",
              "      <th>3</th>\n",
              "      <td>12</td>\n",
              "      <td>20</td>\n",
              "      <td>116</td>\n",
              "      <td>Sulur</td>\n",
              "      <td>சூலூர்</td>\n",
              "    </tr>\n",
              "    <tr>\n",
              "      <th>4</th>\n",
              "      <td>12</td>\n",
              "      <td>20</td>\n",
              "      <td>117</td>\n",
              "      <td>Kavundampalayam</td>\n",
              "      <td>கவுண்டம்பாளையம்</td>\n",
              "    </tr>\n",
              "  </tbody>\n",
              "</table>\n",
              "</div>\n",
              "    <div class=\"colab-df-buttons\">\n",
              "\n",
              "  <div class=\"colab-df-container\">\n",
              "    <button class=\"colab-df-convert\" onclick=\"convertToInteractive('df-efb3b072-85d7-4d62-8608-adc69225e77a')\"\n",
              "            title=\"Convert this dataframe to an interactive table.\"\n",
              "            style=\"display:none;\">\n",
              "\n",
              "  <svg xmlns=\"http://www.w3.org/2000/svg\" height=\"24px\" viewBox=\"0 -960 960 960\">\n",
              "    <path d=\"M120-120v-720h720v720H120Zm60-500h600v-160H180v160Zm220 220h160v-160H400v160Zm0 220h160v-160H400v160ZM180-400h160v-160H180v160Zm440 0h160v-160H620v160ZM180-180h160v-160H180v160Zm440 0h160v-160H620v160Z\"/>\n",
              "  </svg>\n",
              "    </button>\n",
              "\n",
              "  <style>\n",
              "    .colab-df-container {\n",
              "      display:flex;\n",
              "      gap: 12px;\n",
              "    }\n",
              "\n",
              "    .colab-df-convert {\n",
              "      background-color: #E8F0FE;\n",
              "      border: none;\n",
              "      border-radius: 50%;\n",
              "      cursor: pointer;\n",
              "      display: none;\n",
              "      fill: #1967D2;\n",
              "      height: 32px;\n",
              "      padding: 0 0 0 0;\n",
              "      width: 32px;\n",
              "    }\n",
              "\n",
              "    .colab-df-convert:hover {\n",
              "      background-color: #E2EBFA;\n",
              "      box-shadow: 0px 1px 2px rgba(60, 64, 67, 0.3), 0px 1px 3px 1px rgba(60, 64, 67, 0.15);\n",
              "      fill: #174EA6;\n",
              "    }\n",
              "\n",
              "    .colab-df-buttons div {\n",
              "      margin-bottom: 4px;\n",
              "    }\n",
              "\n",
              "    [theme=dark] .colab-df-convert {\n",
              "      background-color: #3B4455;\n",
              "      fill: #D2E3FC;\n",
              "    }\n",
              "\n",
              "    [theme=dark] .colab-df-convert:hover {\n",
              "      background-color: #434B5C;\n",
              "      box-shadow: 0px 1px 3px 1px rgba(0, 0, 0, 0.15);\n",
              "      filter: drop-shadow(0px 1px 2px rgba(0, 0, 0, 0.3));\n",
              "      fill: #FFFFFF;\n",
              "    }\n",
              "  </style>\n",
              "\n",
              "    <script>\n",
              "      const buttonEl =\n",
              "        document.querySelector('#df-efb3b072-85d7-4d62-8608-adc69225e77a button.colab-df-convert');\n",
              "      buttonEl.style.display =\n",
              "        google.colab.kernel.accessAllowed ? 'block' : 'none';\n",
              "\n",
              "      async function convertToInteractive(key) {\n",
              "        const element = document.querySelector('#df-efb3b072-85d7-4d62-8608-adc69225e77a');\n",
              "        const dataTable =\n",
              "          await google.colab.kernel.invokeFunction('convertToInteractive',\n",
              "                                                    [key], {});\n",
              "        if (!dataTable) return;\n",
              "\n",
              "        const docLinkHtml = 'Like what you see? Visit the ' +\n",
              "          '<a target=\"_blank\" href=https://colab.research.google.com/notebooks/data_table.ipynb>data table notebook</a>'\n",
              "          + ' to learn more about interactive tables.';\n",
              "        element.innerHTML = '';\n",
              "        dataTable['output_type'] = 'display_data';\n",
              "        await google.colab.output.renderOutput(dataTable, element);\n",
              "        const docLink = document.createElement('div');\n",
              "        docLink.innerHTML = docLinkHtml;\n",
              "        element.appendChild(docLink);\n",
              "      }\n",
              "    </script>\n",
              "  </div>\n",
              "\n",
              "\n",
              "<div id=\"df-d636539c-ccf6-4e55-9409-8e14eab1775f\">\n",
              "  <button class=\"colab-df-quickchart\" onclick=\"quickchart('df-d636539c-ccf6-4e55-9409-8e14eab1775f')\"\n",
              "            title=\"Suggest charts\"\n",
              "            style=\"display:none;\">\n",
              "\n",
              "<svg xmlns=\"http://www.w3.org/2000/svg\" height=\"24px\"viewBox=\"0 0 24 24\"\n",
              "     width=\"24px\">\n",
              "    <g>\n",
              "        <path d=\"M19 3H5c-1.1 0-2 .9-2 2v14c0 1.1.9 2 2 2h14c1.1 0 2-.9 2-2V5c0-1.1-.9-2-2-2zM9 17H7v-7h2v7zm4 0h-2V7h2v10zm4 0h-2v-4h2v4z\"/>\n",
              "    </g>\n",
              "</svg>\n",
              "  </button>\n",
              "\n",
              "<style>\n",
              "  .colab-df-quickchart {\n",
              "      --bg-color: #E8F0FE;\n",
              "      --fill-color: #1967D2;\n",
              "      --hover-bg-color: #E2EBFA;\n",
              "      --hover-fill-color: #174EA6;\n",
              "      --disabled-fill-color: #AAA;\n",
              "      --disabled-bg-color: #DDD;\n",
              "  }\n",
              "\n",
              "  [theme=dark] .colab-df-quickchart {\n",
              "      --bg-color: #3B4455;\n",
              "      --fill-color: #D2E3FC;\n",
              "      --hover-bg-color: #434B5C;\n",
              "      --hover-fill-color: #FFFFFF;\n",
              "      --disabled-bg-color: #3B4455;\n",
              "      --disabled-fill-color: #666;\n",
              "  }\n",
              "\n",
              "  .colab-df-quickchart {\n",
              "    background-color: var(--bg-color);\n",
              "    border: none;\n",
              "    border-radius: 50%;\n",
              "    cursor: pointer;\n",
              "    display: none;\n",
              "    fill: var(--fill-color);\n",
              "    height: 32px;\n",
              "    padding: 0;\n",
              "    width: 32px;\n",
              "  }\n",
              "\n",
              "  .colab-df-quickchart:hover {\n",
              "    background-color: var(--hover-bg-color);\n",
              "    box-shadow: 0 1px 2px rgba(60, 64, 67, 0.3), 0 1px 3px 1px rgba(60, 64, 67, 0.15);\n",
              "    fill: var(--button-hover-fill-color);\n",
              "  }\n",
              "\n",
              "  .colab-df-quickchart-complete:disabled,\n",
              "  .colab-df-quickchart-complete:disabled:hover {\n",
              "    background-color: var(--disabled-bg-color);\n",
              "    fill: var(--disabled-fill-color);\n",
              "    box-shadow: none;\n",
              "  }\n",
              "\n",
              "  .colab-df-spinner {\n",
              "    border: 2px solid var(--fill-color);\n",
              "    border-color: transparent;\n",
              "    border-bottom-color: var(--fill-color);\n",
              "    animation:\n",
              "      spin 1s steps(1) infinite;\n",
              "  }\n",
              "\n",
              "  @keyframes spin {\n",
              "    0% {\n",
              "      border-color: transparent;\n",
              "      border-bottom-color: var(--fill-color);\n",
              "      border-left-color: var(--fill-color);\n",
              "    }\n",
              "    20% {\n",
              "      border-color: transparent;\n",
              "      border-left-color: var(--fill-color);\n",
              "      border-top-color: var(--fill-color);\n",
              "    }\n",
              "    30% {\n",
              "      border-color: transparent;\n",
              "      border-left-color: var(--fill-color);\n",
              "      border-top-color: var(--fill-color);\n",
              "      border-right-color: var(--fill-color);\n",
              "    }\n",
              "    40% {\n",
              "      border-color: transparent;\n",
              "      border-right-color: var(--fill-color);\n",
              "      border-top-color: var(--fill-color);\n",
              "    }\n",
              "    60% {\n",
              "      border-color: transparent;\n",
              "      border-right-color: var(--fill-color);\n",
              "    }\n",
              "    80% {\n",
              "      border-color: transparent;\n",
              "      border-right-color: var(--fill-color);\n",
              "      border-bottom-color: var(--fill-color);\n",
              "    }\n",
              "    90% {\n",
              "      border-color: transparent;\n",
              "      border-bottom-color: var(--fill-color);\n",
              "    }\n",
              "  }\n",
              "</style>\n",
              "\n",
              "  <script>\n",
              "    async function quickchart(key) {\n",
              "      const quickchartButtonEl =\n",
              "        document.querySelector('#' + key + ' button');\n",
              "      quickchartButtonEl.disabled = true;  // To prevent multiple clicks.\n",
              "      quickchartButtonEl.classList.add('colab-df-spinner');\n",
              "      try {\n",
              "        const charts = await google.colab.kernel.invokeFunction(\n",
              "            'suggestCharts', [key], {});\n",
              "      } catch (error) {\n",
              "        console.error('Error during call to suggestCharts:', error);\n",
              "      }\n",
              "      quickchartButtonEl.classList.remove('colab-df-spinner');\n",
              "      quickchartButtonEl.classList.add('colab-df-quickchart-complete');\n",
              "    }\n",
              "    (() => {\n",
              "      let quickchartButtonEl =\n",
              "        document.querySelector('#df-d636539c-ccf6-4e55-9409-8e14eab1775f button');\n",
              "      quickchartButtonEl.style.display =\n",
              "        google.colab.kernel.accessAllowed ? 'block' : 'none';\n",
              "    })();\n",
              "  </script>\n",
              "</div>\n",
              "\n",
              "    </div>\n",
              "  </div>\n"
            ],
            "application/vnd.google.colaboratory.intrinsic+json": {
              "type": "dataframe",
              "variable_name": "ac_master",
              "summary": "{\n  \"name\": \"ac_master\",\n  \"rows\": 14,\n  \"fields\": [\n    {\n      \"column\": \"dist_code\",\n      \"properties\": {\n        \"dtype\": \"number\",\n        \"std\": 0,\n        \"min\": 12,\n        \"max\": 12,\n        \"num_unique_values\": 1,\n        \"samples\": [\n          12\n        ],\n        \"semantic_type\": \"\",\n        \"description\": \"\"\n      }\n    },\n    {\n      \"column\": \"pcno\",\n      \"properties\": {\n        \"dtype\": \"number\",\n        \"std\": 0,\n        \"min\": 19,\n        \"max\": 21,\n        \"num_unique_values\": 3,\n        \"samples\": [\n          19\n        ],\n        \"semantic_type\": \"\",\n        \"description\": \"\"\n      }\n    },\n    {\n      \"column\": \"acno\",\n      \"properties\": {\n        \"dtype\": \"number\",\n        \"std\": 4,\n        \"min\": 111,\n        \"max\": 126,\n        \"num_unique_values\": 14,\n        \"samples\": [\n          122\n        ],\n        \"semantic_type\": \"\",\n        \"description\": \"\"\n      }\n    },\n    {\n      \"column\": \"acname_eng\",\n      \"properties\": {\n        \"dtype\": \"string\",\n        \"num_unique_values\": 14,\n        \"samples\": [\n          \"Kinathukadavu\"\n        ],\n        \"semantic_type\": \"\",\n        \"description\": \"\"\n      }\n    },\n    {\n      \"column\": \"acname_tam\",\n      \"properties\": {\n        \"dtype\": \"string\",\n        \"num_unique_values\": 14,\n        \"samples\": [\n          \"\\u0b95\\u0bbf\\u0ba3\\u0ba4\\u0bcd\\u0ba4\\u0bc1\\u0b95\\u0b95\\u0b9f\\u0bb5\\u0bc1\"\n        ],\n        \"semantic_type\": \"\",\n        \"description\": \"\"\n      }\n    }\n  ]\n}"
            }
          },
          "metadata": {},
          "execution_count": 21
        }
      ]
    },
    {
      "cell_type": "code",
      "source": [
        "def panda_file_n_rows(path):\n",
        "  xl_file = pd.read_excel(path)\n",
        "  num_rows = xl_file.shape[0]\n",
        "  return (xl_file, num_rows)"
      ],
      "metadata": {
        "id": "mpCr6KF9ZE47"
      },
      "execution_count": 24,
      "outputs": []
    },
    {
      "cell_type": "code",
      "source": [
        "xl_file, num_rows = panda_file_n_rows(\"/content/drive/MyDrive/Datascience&MachineLearning/datasets/PSMaster.xlsx\")\n",
        "print(xl_file.iloc[0])"
      ],
      "metadata": {
        "colab": {
          "base_uri": "https://localhost:8080/"
        },
        "id": "v5CVCk4kZVMV",
        "outputId": "e7b0e369-8575-41f1-c22a-e76e39d44e9a"
      },
      "execution_count": 25,
      "outputs": [
        {
          "output_type": "stream",
          "name": "stdout",
          "text": [
            "dist_code                                                         12\n",
            "pc_no                                                             20\n",
            "ac_no                                                            111\n",
            "ps_sno                                                             1\n",
            "ps_name_en         Panchayat Union Elementary School,North Facing...\n",
            "ps_area_en         1.Nellithurai Ward No. 1\\n2.Nandhavanam  Pudur...\n",
            "ps_name_ta         ஊராட்சி ஒன்றிய துவக்கப்பள்ளி, வடக்கு பார்த்த க...\n",
            "ps_area_ta         1.நெல்லித்துறை வார்டு எண். 1\\n2.நந்தவனம் புதூர...\n",
            "ps_total_voters                                               1082.0\n",
            "Name: 0, dtype: object\n"
          ]
        }
      ]
    },
    {
      "cell_type": "code",
      "source": [
        "print(num_rows)"
      ],
      "metadata": {
        "colab": {
          "base_uri": "https://localhost:8080/"
        },
        "id": "YLm1qw3wZlEm",
        "outputId": "7ca902e0-3576-4041-cbb1-fc8c4b96feb1"
      },
      "execution_count": 26,
      "outputs": [
        {
          "output_type": "stream",
          "name": "stdout",
          "text": [
            "2661\n"
          ]
        }
      ]
    }
  ]
}